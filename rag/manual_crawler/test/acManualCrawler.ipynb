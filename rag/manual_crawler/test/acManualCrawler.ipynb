{
 "cells": [
  {
   "cell_type": "code",
   "execution_count": 4,
   "metadata": {},
   "outputs": [],
   "source": [
    "import requests\n",
    "from bs4 import BeautifulSoup\n",
    "import pandas as pd\n",
    "import os\n",
    "\n",
    "# 실제 크롤링할 URL (예시 URL, 실제 주소로 변경)\n",
    "url = \"https://downloadcenter.samsung.com/content/PM/202305/20230525172504861/KO/air-web_FAC029-02/content7.html#4605B2F8-DC3E-4EDC-BE73-4B2ABE233835\"\n",
    "response = requests.get(url)\n",
    "response.encoding = \"utf-8\"  # 인코딩을 UTF-8로 설정\n",
    "response.raise_for_status()\n",
    "\n",
    "soup = BeautifulSoup(response.text, \"html.parser\")"
   ]
  },
  {
   "cell_type": "code",
   "execution_count": 5,
   "metadata": {},
   "outputs": [],
   "source": [
    "# 페이지 내에서 문제(증상)를 나타내는 h4 태그들을 찾습니다.\n",
    "# (여기서는 예시로 h4 태그의 클래스 중 \"Heading3-Noline_NoTOC_InContent\"를 기준으로 합니다)\n",
    "h4_tags = soup.find_all(\n",
    "    \"h4\", class_=lambda c: c and \"Heading3-Noline_NoTOC_InContent\" in c\n",
    ")"
   ]
  },
  {
   "cell_type": "code",
   "execution_count": 6,
   "metadata": {},
   "outputs": [
    {
     "name": "stdout",
     "output_type": "stream",
     "text": [
      "[<h4 class=\"Heading3-Noline_NoTOC_InContent shap-target remove-space\" data-class=\"Heading3 Noline NoTOC InContent\" id=\"B3D0FAA1-DAD9-4EF2-BEEB-5A38D643D0C9\">전원이 켜지지 않아요.</h4>, <h4 class=\"Heading3-Noline_NoTOC_InContent shap-target remove-space\" data-class=\"Heading3 Noline NoTOC InContent\" id=\"713BCD68-951F-4A93-9C67-2E953D1030D8\">전원이 꺼지지 않아요.</h4>, <h4 class=\"Heading3-Noline_NoTOC_InContent shap-target remove-space\" data-class=\"Heading3 Noline NoTOC InContent\" id=\"3BE4929E-8EB4-4F78-8C30-7CCE1F18A451\">온도 조절이 안 돼요.</h4>, <h4 class=\"Heading3-Noline_NoTOC_InContent shap-target remove-space\" data-class=\"Heading3 Noline NoTOC InContent\" id=\"052818BB-11A6-4C8A-B845-44A04BBFFD7A\">바람 세기 조절이 안 돼요.</h4>, <h4 class=\"Heading3-Noline_NoTOC_InContent shap-target remove-space\" data-class=\"Heading3 Noline NoTOC InContent\" id=\"D96E2825-00A6-45D7-B296-6355BBCE2052\">리모컨이 작동하지 않아요.</h4>, <h4 class=\"Heading3-Noline_NoTOC_InContent shap-target remove-space\" data-class=\"Heading3 Noline NoTOC InContent\" id=\"DEE12D86-11FE-42F8-A748-AFAEF17D1FE4\">리모컨 사용 시 벽걸이형 에어컨도 작동해요.</h4>, <h4 class=\"Heading3-Noline_NoTOC_InContent shap-target remove-space\" data-class=\"Heading3 Noline NoTOC InContent\" id=\"74D2F6FE-CC0F-4917-84EF-D228AC52722D\">예약이 안 돼요.</h4>, <h4 class=\"Heading3-Noline_NoTOC_InContent shap-target remove-space\" data-class=\"Heading3 Noline NoTOC InContent\" id=\"0414990E-47F4-4BAC-AC94-DAF50D6226B2\">제습이 안 돼요. 습도가 떨어지지 않아요. 습도가 올라가요.</h4>, <h4 class=\"Heading3-Noline_NoTOC_InContent shap-target remove-space\" data-class=\"Heading3 Noline NoTOC InContent\" id=\"EAA87895-697C-4666-815C-21E233F26D6F\">에어컨의 온도/습도 수치가 온도계/습도계와 달라요.</h4>, <h4 class=\"Heading3-Noline_NoTOC_InContent shap-target remove-space\" data-class=\"Heading3 Noline NoTOC InContent\" id=\"B31C88C9-D0D4-4457-BB40-37CDD7ADAAF7\">찬 바람이 왜 바로 나오지 않나요?</h4>, <h4 class=\"Heading3-Noline_NoTOC_InContent shap-target remove-space\" data-class=\"Heading3 Noline NoTOC InContent\" id=\"FFB7A146-F37F-4EA6-A889-DBBCD8BC5DBC\">찬 바람이 나오지 않는 것 같아요.</h4>, <h4 class=\"Heading3-Noline_NoTOC_InContent shap-target remove-space\" data-class=\"Heading3 Noline NoTOC InContent\" id=\"5F2ADBBC-181C-4083-A535-443AFE2CCCCC\">이상한 소리가 나요.</h4>, <h4 class=\"Heading3-Noline_NoTOC_InContent shap-target remove-space\" data-class=\"Heading3 Noline NoTOC InContent\" id=\"6C8E3578-EE7D-4D69-A8F4-55CAEA00A436\">잠잘 때 시끄러워요.</h4>, <h4 class=\"Heading3-Noline_NoTOC_InContent shap-target remove-space\" data-class=\"Heading3 Noline NoTOC InContent\" id=\"51A939DD-0E42-4E88-BE46-AE0A3391E4E2\">이상한 냄새가 나요. </h4>, <h4 class=\"Heading3-Noline_NoTOC_InContent shap-target remove-space\" data-class=\"Heading3 Noline NoTOC InContent\" id=\"9B263380-FF02-4BEA-8E3E-29649CAAEDB0\">에어컨에 이슬이 맺히고 물이 떨어져요.</h4>, <h4 class=\"Heading3-Noline_NoTOC_InContent shap-target remove-space\" data-class=\"Heading3 Noline NoTOC InContent\" id=\"DAEDDDE9-7559-4B25-ACEB-8EDE76BAB9EA\">바람문에서 흰 수증기가 나와요.</h4>, <h4 class=\"Heading3-Noline_NoTOC_InContent shap-target remove-space\" data-class=\"Heading3 Noline NoTOC InContent\" id=\"23928235-064F-4E08-979B-94D1E304376D\">실내기 디스플레이에 이상한 표시가 나타나요.</h4>, <h4 class=\"Heading3-Noline_NoTOC_InContent shap-target remove-space\" data-class=\"Heading3 Noline NoTOC InContent\" id=\"D8B099FD-C9E7-44CC-9C7E-DE0FED153DAB\">실외기의 팬이 돌아가지 않아요.</h4>, <h4 class=\"Heading3-Noline_NoTOC_InContent shap-target remove-space\" data-class=\"Heading3 Noline NoTOC InContent\" id=\"572EA681-4303-4809-861A-29997776C961\">실외기의 팬이 늦게 돌아가기 시작해요.</h4>, <h4 class=\"Heading3-Noline_NoTOC_InContent shap-target remove-space\" data-class=\"Heading3 Noline NoTOC InContent\" id=\"7D30D1B1-159A-419F-AF93-964F8204676A\">실외기의 팬이 돌아가다가 정지돼요.</h4>, <h4 class=\"Heading3-Noline_NoTOC_InContent shap-target remove-space\" data-class=\"Heading3 Noline NoTOC InContent\" id=\"98F08B72-A0C4-425A-B4E9-176669484C7B\">희망 온도 도달 후에도 실외기가 정지하지 않아요.</h4>]\n"
     ]
    }
   ],
   "source": [
    "print(h4_tags)"
   ]
  },
  {
   "cell_type": "code",
   "execution_count": 8,
   "metadata": {},
   "outputs": [],
   "source": [
    "results = []\n",
    "for h4 in h4_tags:\n",
    "    # 증상은 h4 태그의 텍스트로 사용\n",
    "    symptom = h4.get_text(strip=True)\n",
    "\n",
    "    # 다음 형제 요소를 찾습니다.\n",
    "    next_elem = h4.find_next_sibling()\n",
    "    # 빈 텍스트 노드 건너뛰기\n",
    "    while next_elem and (not getattr(next_elem, \"name\", None)):\n",
    "        next_elem = next_elem.find_next_sibling()\n",
    "\n",
    "    # Case 1: h4 바로 다음 요소가 Description 클래스라면 단일 항목으로 처리합니다.\n",
    "    if next_elem and next_elem.get(\"class\") and \"Description\" in next_elem.get(\"class\"):\n",
    "        cause = \"Null\"  # 원인 정보가 없으므로 Null 처리\n",
    "        solution = next_elem.get_text(\" \", strip=True)\n",
    "        results.append({\"증상\": symptom, \"원인\": cause, \"해결방안\": solution})\n",
    "    else:\n",
    "        # Case 2: h4 이후부터 다음 h4 태그까지의 형제 요소들 중에서\n",
    "        # UnorderList_1_Cell(원인)와 Description_Indent1(해결방안) 태그들이 쌍을 이룹니다.\n",
    "        siblings = []\n",
    "        for sib in h4.find_next_siblings():\n",
    "            # 다음 h4 태그가 나오면 해당 영역은 종료합니다.\n",
    "            if sib.name == \"h4\":\n",
    "                break\n",
    "            siblings.append(sib)\n",
    "\n",
    "        # 해당 영역 내에서 두 종류의 태그를 각각 수집합니다.\n",
    "        cause_cells = [\n",
    "            elem\n",
    "            for elem in siblings\n",
    "            if elem.get(\"class\") and \"UnorderList_1_Cell\" in elem.get(\"class\")\n",
    "        ]\n",
    "        solution_divs = [\n",
    "            elem\n",
    "            for elem in siblings\n",
    "            if elem.get(\"class\") and \"Description_Indent1\" in elem.get(\"class\")\n",
    "        ]\n",
    "\n",
    "        # 두 리스트의 순서대로 매칭합니다.\n",
    "        for cell, sol_div in zip(cause_cells, solution_divs):\n",
    "            # 원인 텍스트: cell 내부의 텍스트(불필요한 기호 등은 strip)\n",
    "            cause_text = cell.get_text(\" \", strip=True)\n",
    "            # 해결방안 텍스트: 해당 div 내부의 텍스트\n",
    "            solution_text = sol_div.get_text(\" \", strip=True)\n",
    "            results.append(\n",
    "                {\"증상\": symptom, \"원인\": cause_text, \"해결방안\": solution_text}\n",
    "            )"
   ]
  },
  {
   "cell_type": "code",
   "execution_count": 9,
   "metadata": {},
   "outputs": [
    {
     "name": "stdout",
     "output_type": "stream",
     "text": [
      "[{'증상': '전원이 꺼지지 않아요.', '원인': 'Null', '해결방안': '실내기 맞춤건조 기능 실행 중에는 에어컨이 꺼지지 않습니다. 맞춤건조 기능이 끝날 때까지 잠시 기다려 주세요.'}, {'증상': '온도 조절이 안 돼요.', '원인': 'Null', '해결방안': '청정/스피드 운전 실행 중에는 온도를 조절할 수 없습니다. 버튼을 누르면 냉방 운전으로 변경됩니다.'}, {'증상': '바람 세기 조절이 안 돼요.', '원인': 'Null', '해결방안': '쾌적[AI(인공지능)쾌적]/제습/쾌면(열대야 쾌면) 운전이 실행되고 있거나 바람문이 1개만 운전하고 있을 때에는 바람 세기가 자동으로 설정됩니다. 단, 쾌적[AI(인공지능)쾌적] 운전 중 버튼을 누르면 냉방 운전으로 변경됩니다.'}, {'증상': '리모컨이 작동하지 않아요.', '원인': '• 실내기의 리모컨 수신부가 물건으로 가려져 있는 경우', '해결방안': '리모컨이 보내는 신호를 받을 수가 없습니다. 가린 물건을 치우고 실내기의 리모컨 수신부를 향해 리모컨을 눌러 주세요.'}, {'증상': '리모컨이 작동하지 않아요.', '원인': '• 건전지가 다 소모된 경우', '해결방안': '새 건전지로 교체해 주세요.'}, {'증상': '리모컨이 작동하지 않아요.', '원인': '• 강한 빛(삼파장 형광등, 네온사인등) 근처인 경우', '해결방안': '전파 방해로 리모컨이 작동되지 않을 수 있습니다. 형광등을 끄고 정상적으로 작동되는지 확인해 주세요.'}, {'증상': '리모컨 사용 시 벽걸이형 에어컨도 작동해요.', '원인': 'Null', '해결방안': '벽걸이형 에어컨이 스탠드형 에어컨과 가까운 곳에 있을 경우 리모컨 사용 시 벽걸이형 에어컨이 작동할 수 있습니다. 벽걸이형 에어컨이 영향을 받지 않도록 문을 닫거나 손으로 리모컨을 가려 사용해 주세요.'}, {'증상': '예약이 안 돼요.', '원인': 'Null', '해결방안': '예약 시간을 선택한 후에 반드시 버튼을 눌러야 예약 설정이 완료됩니다. 예약 설정 후 실내기 디스플레이의 을 확인해 주세요.'}, {'증상': '제습이 안 돼요. 습도가 떨어지지 않아요. 습도가 올라가요.', '원인': 'Null', '해결방안': '실내 온도가 희망 온도에 도달하여 실외기가 정지하면 내·외부의 습기에 의하여, 습도가 다시 올라갈 수 있습니다. 더 강력한 제습을 원하면 희망 온도를 낮춰 주세요. 에어컨 습도는 상대습도(%)로 표시되며, 상대습도(%)는 현재 온도에 포함할 수 있는 최대 수증기량(포화 수증기량) 대비 현재 포함된 수증기량과의 비율을 퍼센트로 나타냅니다. 이에 따라 동일한 상대습도라도 실내 온도가 낮아질수록 정상적으로 제습이 되고 있는 상태입니다.'}, {'증상': '에어컨의 온도/습도 수치가 온도계/습도계와 달라요.', '원인': 'Null', '해결방안': '온도나 습도는 위치에 따라 다를 수 있으므로 측정값에 다소 차이가 날\\xa0수 있습니다. 에어컨 토출 공기는 낮은 온도로 인하여 상대습도가 높습니다. 토출 공기의 영향을 받는 위치에서 측정 시 상대습도(%)가 높게 측정될 수 있습니다.'}, {'증상': '찬 바람이 왜 바로 나오지 않나요?', '원인': 'Null', '해결방안': '에어컨은 가동 시 내부 부품의 고장을 방지하기 위해 약 3분 정도의 대기 시간이 필요할 수 있습니다. 실내기 디스플레이에 표시가 나타난 후 찬 바람이 나오면 정상입니다.'}, {'증상': '찬 바람이 나오지 않는 것 같아요.', '원인': 'Null', '해결방안': '사용 환경에 따라 냉방약함이 발생할 수 있습니다. 사용전 확인하기( 사용전 확인하기 부분 )를 참고하세요.'}, {'증상': '잠잘 때 시끄러워요.', '원인': 'Null', '해결방안': '바람 세기를 터보풍, 강풍으로 사용 중인지 확인하고 정음 기능 또는 약풍을 선택해 주세요.'}, {'증상': '이상한 냄새가 나요.', '원인': 'Null', '해결방안': '에어컨은 실내 공기를 흡입하여 순환시키므로 장시간 밀폐된 공간에서 사용하면 가정에서 발생한 냄새가 필터에 밸 수 있고 열교환기 수분으로 인해 꿉꿉한 냄새가 날 수 있습니다. 워시클린 기능을 실행하여 실내기(열교환기)에 밴 냄새를 제거하세요. → 워시클린 기능 ( 워시클린 기능 부분 )'}, {'증상': '바람문에서 흰 수증기가 나와요.', '원인': 'Null', '해결방안': '생선, 고기 등 음식 조리시에 발생하는 기름이 열교환기에 흡착되어 냉방성능 저하 또는 습도가 높을 경우에는 수증기가 나올 수 있습니다. 기름이 많은 환경에서 사용할 경우 열교환기를 정기적으로 세척해 주세요.'}, {'증상': '실외기의 팬이 돌아가다가 정지돼요.', '원인': 'Null', '해결방안': '실내 온도가 희망 온도에 도달하면 절전을 위해 컴프레서가 정지되며, 실내 온도가 높아지면 컴프레서가 다시 작동됩니다. 고장이 아니니 안심하세요.'}]\n"
     ]
    }
   ],
   "source": [
    "print(results)"
   ]
  }
 ],
 "metadata": {
  "kernelspec": {
   "display_name": "venv",
   "language": "python",
   "name": "python3"
  },
  "language_info": {
   "codemirror_mode": {
    "name": "ipython",
    "version": 3
   },
   "file_extension": ".py",
   "mimetype": "text/x-python",
   "name": "python",
   "nbconvert_exporter": "python",
   "pygments_lexer": "ipython3",
   "version": "3.13.0"
  }
 },
 "nbformat": 4,
 "nbformat_minor": 2
}
